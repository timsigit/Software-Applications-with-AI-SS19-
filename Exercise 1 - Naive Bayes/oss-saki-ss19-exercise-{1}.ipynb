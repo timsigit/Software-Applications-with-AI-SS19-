{
 "cells": [
  {
   "cell_type": "code",
   "execution_count": 1,
   "metadata": {},
   "outputs": [],
   "source": [
    "import pandas as pd\n",
    "import numpy\n",
    "import seaborn as sn\n",
    "from sklearn import preprocessing\n",
    "from sklearn.model_selection import train_test_split\n",
    "from sklearn.naive_bayes import GaussianNB\n",
    "from sklearn.metrics import accuracy_score\n",
    "from sklearn.metrics import confusion_matrix\n",
    "from sklearn.metrics import f1_score\n",
    "from sklearn.feature_extraction.text import CountVectorizer"
   ]
  },
  {
   "cell_type": "code",
   "execution_count": 2,
   "metadata": {},
   "outputs": [],
   "source": [
    "# Read CSV-File\n",
    "transactions = pd.read_csv('Exercise 1 - Transaction Classification - Data Set.csv',\n",
    "                            sep = ';')"
   ]
  },
  {
   "cell_type": "code",
   "execution_count": 3,
   "metadata": {},
   "outputs": [],
   "source": [
    "# Deleting unimportant features and splitting Set into Input-data and Output-data\n",
    "X = transactions.drop(['Unnamed: 0','label', 'Auftragskonto', \n",
    "                    'Buchungstag','Valutadatum', 'Beguenstigter/Zahlungspflichtiger',\n",
    "                    'Waehrung','Kontonummer', 'Betrag'], axis = 1)\n",
    "y = transactions['label']"
   ]
  },
  {
   "cell_type": "code",
   "execution_count": 4,
   "metadata": {},
   "outputs": [
    {
     "data": {
      "text/plain": [
       "Buchungstext        0\n",
       "Verwendungszweck    0\n",
       "BLZ                 1\n",
       "dtype: int64"
      ]
     },
     "execution_count": 4,
     "metadata": {},
     "output_type": "execute_result"
    }
   ],
   "source": [
    "# Locate missing values in the given data\n",
    "X.isnull().sum().head()"
   ]
  },
  {
   "cell_type": "code",
   "execution_count": 5,
   "metadata": {},
   "outputs": [],
   "source": [
    "# Clean missing values with empty String\n",
    "X['BLZ'] = X['BLZ'].fillna(' ')"
   ]
  },
  {
   "cell_type": "code",
   "execution_count": 6,
   "metadata": {},
   "outputs": [],
   "source": [
    "# Train, Test, Split - Allocation: 75% Training data, 25% Test data\n",
    "X_train, X_test, y_train, y_test = train_test_split(X, y, test_size = 0.25, \n",
    "                                                        random_state = 42)"
   ]
  },
  {
   "cell_type": "code",
   "execution_count": 7,
   "metadata": {},
   "outputs": [],
   "source": [
    "# Creation CountVectorizer object\n",
    "vectorizer1 = CountVectorizer(min_df = 2)     # Reducing the number of dimensions\n",
    "vectorizer2 = CountVectorizer(min_df = 1) \n",
    "vectorizer3 = CountVectorizer(min_df = 1) \n",
    "\n",
    "# Fit BoW for training data\n",
    "X_train1 = vectorizer1.fit(X_train['Verwendungszweck'])\n",
    "X_train2 = vectorizer2.fit(X_train['Buchungstext'])\n",
    "X_train3 = vectorizer3.fit(X_train['BLZ'])\n",
    "\n",
    "# Transform training and test data\n",
    "X_train1 = vectorizer1.transform(X_train['Verwendungszweck']).toarray()\n",
    "X_train2 = vectorizer2.transform(X_train['Buchungstext']).toarray()\n",
    "X_train3 = vectorizer3.transform(X_train['BLZ']).toarray()\n",
    "\n",
    "X_test1 = vectorizer1.transform(X_test['Verwendungszweck']).toarray()\n",
    "X_test2 = vectorizer2.transform(X_test['Buchungstext']).toarray()\n",
    "X_test3 = vectorizer3.transform(X_test['BLZ']).toarray()"
   ]
  },
  {
   "cell_type": "code",
   "execution_count": 8,
   "metadata": {},
   "outputs": [
    {
     "name": "stdout",
     "output_type": "stream",
     "text": [
      "Amount rows:  156  + amount columns:  224\n",
      "Amount rows:  53  + amount columns:  224\n"
     ]
    }
   ],
   "source": [
    "# Merging all generated features\n",
    "X_train = numpy.concatenate((X_train1, X_train2, X_train3), axis=1) \n",
    "print('Amount rows: ', X_train.shape[0], ' + amount columns: ', X_train.shape[1]) \n",
    "X_test = numpy.concatenate((X_test1, X_test2, X_test3), axis=1) \n",
    "print('Amount rows: ', X_test.shape[0], ' + amount columns: ', X_test.shape[1]) "
   ]
  },
  {
   "cell_type": "code",
   "execution_count": 9,
   "metadata": {},
   "outputs": [
    {
     "name": "stdout",
     "output_type": "stream",
     "text": [
      "Null accuracy:  leisure    0.301887\n",
      "Name: label, dtype: float64\n",
      "Accuracy score:  0.9622641509433962\n",
      "F1 score Values:  [1.         1.         0.94117647 0.92307692 1.         0.95652174]\n"
     ]
    },
    {
     "data": {
      "text/plain": [
       "<matplotlib.axes._subplots.AxesSubplot at 0x1016be898>"
      ]
     },
     "execution_count": 9,
     "metadata": {},
     "output_type": "execute_result"
    },
    {
     "data": {
      "image/png": "[encoded data removed]",
      "text/plain": [
       "<Figure size 432x288 with 2 Axes>"
      ]
     },
     "metadata": {},
     "output_type": "display_data"
    }
   ],
   "source": [
    "# Gaussian Naive Bayes Classifier\n",
    "GausNB = GaussianNB()\n",
    "GausNB.fit(X_train, y_train)\n",
    "\n",
    "y_pred = GausNB.predict(X_test)\n",
    "print('Null accuracy: ', y_test.value_counts().head(1) / len(y_test))\n",
    "print('Accuracy score: ', accuracy_score(y_test, y_pred))\n",
    "print('F1 score Values: ', f1_score(y_test, y_pred, average=None))\n",
    "\n",
    "# Plot - Confusion matrix - visualization\n",
    "plot_names = numpy.unique(y_test)\n",
    "MultiPlot = pd.DataFrame(confusion_matrix(y_test, y_pred), index = plot_names,\n",
    "                  columns = plot_names)\n",
    "sn.set(font_scale=1.4)              \n",
    "sn.heatmap(MultiPlot, cmap=\"YlGnBu\", annot=True, annot_kws={\"size\": 16})   \n"
   ]
  },
  {
   "cell_type": "code",
   "execution_count": 10,
   "metadata": {},
   "outputs": [
    {
     "name": "stdout",
     "output_type": "stream",
     "text": [
      "(2, 224)\n",
      "------\n",
      "03\n",
      "12\n",
      "17\n",
      "30\n",
      "einzugsermächtigung\n",
      "lastschrift\n",
      "cobadeff\n",
      "------\n",
      "03\n",
      "20\n",
      "21\n",
      "23\n",
      "einzugsermächtigung\n",
      "lastschrift\n",
      "weladedd\n"
     ]
    }
   ],
   "source": [
    "misclassified_samples = X_test[y_test != y_pred]\n",
    "print(misclassified_samples.shape)\n",
    "\n",
    "f1 = vectorizer1.get_feature_names()\n",
    "f2 = vectorizer2.get_feature_names()\n",
    "f3 = vectorizer3.get_feature_names()\n",
    "X_fsum = numpy.concatenate((f1, f2, f3))\n",
    "\n",
    "# Print BoW of misclassified testsamples for error detection\n",
    "for x in range(0, misclassified_samples.shape[0]):\n",
    "    print ('------')\n",
    "    for y in range(0, misclassified_samples.shape[1]):\n",
    "        if misclassified_samples[x,y] != 0:\n",
    "            print(X_fsum[y])"
   ]
  }
 ],
 "metadata": {
  "kernelspec": {
   "display_name": "Python 3",
   "language": "python",
   "name": "python3"
  },
  "language_info": {
   "codemirror_mode": {
    "name": "ipython",
    "version": 3
   },
   "file_extension": ".py",
   "mimetype": "text/x-python",
   "name": "python",
   "nbconvert_exporter": "python",
   "pygments_lexer": "ipython3",
   "version": "3.7.1"
  }
 },
 "nbformat": 4,
 "nbformat_minor": 2
}
